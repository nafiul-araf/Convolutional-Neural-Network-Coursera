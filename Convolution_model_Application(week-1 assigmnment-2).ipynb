{
 "cells": [
  {
   "cell_type": "markdown",
   "metadata": {},
   "source": [
    "# Convolutional Neural Networks: Application\n",
    "\n",
    "Welcome to Course 4's second assignment! In this notebook, you will:\n",
    "\n",
    "- Create a mood classifer using the TF Keras Sequential API\n",
    "- Build a ConvNet to identify sign language digits using the TF Keras Functional API\n",
    "\n",
    "**After this assignment you will be able to:**\n",
    "\n",
    "- Build and train a ConvNet in TensorFlow for a __binary__ classification problem\n",
    "- Build and train a ConvNet in TensorFlow for a __multiclass__ classification problem\n",
    "- Explain different use cases for the Sequential and Functional APIs\n",
    "\n",
    "To complete this assignment, you should already be familiar with TensorFlow. If you are not, please refer back to the **TensorFlow Tutorial** of the third week of Course 2 (\"**Improving deep neural networks**\")."
   ]
  },
  {
   "cell_type": "markdown",
   "metadata": {},
   "source": [
    "## Table of Contents\n",
    "\n",
    "- [1 - Packages](#1)\n",
    "    - [1.1 - Load the Data and Split the Data into Train/Test Sets](#1-1)\n",
    "- [2 - Layers in TF Keras](#2)\n",
    "- [3 - The Sequential API](#3)\n",
    "    - [3.1 - Create the Sequential Model](#3-1)\n",
    "        - [Exercise 1 - happyModel](#ex-1)\n",
    "    - [3.2 - Train and Evaluate the Model](#3-2)\n",
    "- [4 - The Functional API](#4)\n",
    "    - [4.1 - Load the SIGNS Dataset](#4-1)\n",
    "    - [4.2 - Split the Data into Train/Test Sets](#4-2)\n",
    "    - [4.3 - Forward Propagation](#4-3)\n",
    "        - [Exercise 2 - convolutional_model](#ex-2)\n",
    "    - [4.4 - Train the Model](#4-4)\n",
    "- [5 - History Object](#5)\n",
    "- [6 - Bibliography](#6)"
   ]
  },
  {
   "cell_type": "markdown",
   "metadata": {},
   "source": [
    "<a name='1'></a>\n",
    "## 1 - Packages\n",
    "\n",
    "As usual, begin by loading in the packages."
   ]
  },
  {
   "cell_type": "code",
   "execution_count": 1,
   "metadata": {},
   "outputs": [],
   "source": [
    "import math\n",
    "import numpy as np\n",
    "import h5py\n",
    "import matplotlib.pyplot as plt\n",
    "from matplotlib.pyplot import imread\n",
    "import scipy\n",
    "from PIL import Image\n",
    "import pandas as pd\n",
    "import tensorflow as tf\n",
    "import tensorflow.keras.layers as tfl\n",
    "from tensorflow.python.framework import ops\n",
    "from cnn_utils import *\n",
    "from test_utils import summary, comparator\n",
    "\n",
    "%matplotlib inline\n",
    "np.random.seed(1)"
   ]
  },
  {
   "cell_type": "markdown",
   "metadata": {},
   "source": [
    "<a name='1-1'></a>\n",
    "### 1.1 - Load the Data and Split the Data into Train/Test Sets\n",
    "\n",
    "You'll be using the Happy House dataset for this part of the assignment, which contains images of peoples' faces. Your task will be to build a ConvNet that determines whether the people in the images are smiling or not -- because they only get to enter the house if they're smiling!  "
   ]
  },
  {
   "cell_type": "code",
   "execution_count": 2,
   "metadata": {},
   "outputs": [
    {
     "name": "stdout",
     "output_type": "stream",
     "text": [
      "number of training examples = 600\n",
      "number of test examples = 150\n",
      "X_train shape: (600, 64, 64, 3)\n",
      "Y_train shape: (600, 1)\n",
      "X_test shape: (150, 64, 64, 3)\n",
      "Y_test shape: (150, 1)\n"
     ]
    }
   ],
   "source": [
    "X_train_orig, Y_train_orig, X_test_orig, Y_test_orig, classes = load_happy_dataset()\n",
    "\n",
    "# Normalize image vectors\n",
    "X_train = X_train_orig/255.\n",
    "X_test = X_test_orig/255.\n",
    "\n",
    "# Reshape\n",
    "Y_train = Y_train_orig.T\n",
    "Y_test = Y_test_orig.T\n",
    "\n",
    "print (\"number of training examples = \" + str(X_train.shape[0]))\n",
    "print (\"number of test examples = \" + str(X_test.shape[0]))\n",
    "print (\"X_train shape: \" + str(X_train.shape))\n",
    "print (\"Y_train shape: \" + str(Y_train.shape))\n",
    "print (\"X_test shape: \" + str(X_test.shape))\n",
    "print (\"Y_test shape: \" + str(Y_test.shape))"
   ]
  },
  {
   "cell_type": "markdown",
   "metadata": {},
   "source": [
    "You can display the images contained in the dataset. Images are **64x64** pixels in RGB format (3 channels)."
   ]
  },
  {
   "cell_type": "code",
   "execution_count": 3,
   "metadata": {},
   "outputs": [
    {
     "data": {
      "image/png": "[encoded data removed]",
      "text/plain": [
       "<Figure size 432x288 with 1 Axes>"
      ]
     },
     "metadata": {
      "needs_background": "light"
     },
     "output_type": "display_data"
    }
   ],
   "source": [
    "index = 124\n",
    "plt.imshow(X_train_orig[index]) #display sample training image\n",
    "plt.show()"
   ]
  },
  {
   "cell_type": "markdown",
   "metadata": {},
   "source": [
    "<a name='2'></a>\n",
    "## 2 - Layers in TF Keras \n",
    "\n",
    "In the previous assignment, you created layers manually in numpy. In TF Keras, you don't have to write code directly to create layers. Rather, TF Keras has pre-defined layers you can use. \n",
    "\n",
    "When you create a layer in TF Keras, you are creating a function that takes some input and transforms it into an output you can reuse later. Nice and easy! "
   ]
  },
  {
   "cell_type": "markdown",
   "metadata": {},
   "source": [
    "<a name='3'></a>\n",
    "## 3 - The Sequential API\n",
    "\n",
    "In the previous assignment, you built helper functions using `numpy` to understand the mechanics behind convolutional neural networks. Most practical applications of deep learning today are built using programming frameworks, which have many built-in functions you can simply call. Keras is a high-level abstraction built on top of TensorFlow, which allows for even more simplified and optimized model creation and training. \n",
    "\n",
    "For the first part of this assignment, you'll create a model using TF Keras' Sequential API, which allows you to build layer by layer, and is ideal for building models where each layer has **exactly one** input tensor and **one** output tensor. \n",
    "\n",
    "As you'll see, using the Sequential API is simple and straightforward, but is only appropriate for simpler, more straightforward tasks. Later in this notebook you'll spend some time building with a more flexible, powerful alternative: the Functional API. \n",
    " "
   ]
  },
  {
   "cell_type": "markdown",
   "metadata": {},
   "source": [
    "<a name='3-1'></a>\n",
    "### 3.1 - Create the Sequential Model\n",
    "\n",
    "As mentioned earlier, the TensorFlow Keras Sequential API can be used to build simple models with layer operations that proceed in a sequential order. \n",
    "\n",
    "You can also add layers incrementally to a Sequential model with the `.add()` method, or remove them using the `.pop()` method, much like you would in a regular Python list.\n",
    "\n",
    "Actually, you can think of a Sequential model as behaving like a list of layers. Like Python lists, Sequential layers are ordered, and the order in which they are specified matters.  If your model is non-linear or contains layers with multiple inputs or outputs, a Sequential model wouldn't be the right choice!\n",
    "\n",
    "For any layer construction in Keras, you'll need to specify the input shape in advance. This is because in Keras, the shape of the weights is based on the shape of the inputs. The weights are only created when the model first sees some input data. Sequential models can be created by passing a list of layers to the Sequential constructor, like you will do in the next assignment.\n",
    "\n",
    "<a name='ex-1'></a>\n",
    "### Exercise 1 - happyModel\n",
    "\n",
    "Implement the `happyModel` function below to build the following model: `ZEROPAD2D -> CONV2D -> BATCHNORM -> RELU -> MAXPOOL -> FLATTEN -> DENSE`. Take help from [tf.keras.layers](https://www.tensorflow.org/api_docs/python/tf/keras/layers) \n",
    "\n",
    "Also, plug in the following parameters for all the steps:\n",
    "\n",
    " - [ZeroPadding2D](https://www.tensorflow.org/api_docs/python/tf/keras/layers/ZeroPadding2D): padding 3, input shape 64 x 64 x 3\n",
    " - [Conv2D](https://www.tensorflow.org/api_docs/python/tf/keras/layers/Conv2D): Use 32 7x7 filters, stride 1\n",
    " - [BatchNormalization](https://www.tensorflow.org/api_docs/python/tf/keras/layers/BatchNormalization): for axis 3\n",
    " - [ReLU](https://www.tensorflow.org/api_docs/python/tf/keras/layers/ReLU)\n",
    " - [MaxPool2D](https://www.tensorflow.org/api_docs/python/tf/keras/layers/MaxPool2D): Using default parameters\n",
    " - [Flatten](https://www.tensorflow.org/api_docs/python/tf/keras/layers/Flatten) the previous output.\n",
    " - Fully-connected ([Dense](https://www.tensorflow.org/api_docs/python/tf/keras/layers/Dense)) layer: Apply a fully connected layer with 1 neuron and a sigmoid activation. \n",
    " \n",
    " \n",
    " **Hint:**\n",
    " \n",
    " Use **tfl** as shorthand for **tensorflow.keras.layers**"
   ]
  },
  {
   "cell_type": "code",
   "execution_count": 18,
   "metadata": {
    "deletable": false,
    "nbgrader": {
     "cell_type": "code",
     "checksum": "95d28b191f257bdd5b70c7b8952559d5",
     "grade": false,
     "grade_id": "cell-0e56d3fc28b69aec",
     "locked": false,
     "schema_version": 3,
     "solution": true,
     "task": false
    }
   },
   "outputs": [],
   "source": [
    "# GRADED FUNCTION: happyModel\n",
    "\n",
    "def happyModel():\n",
    "    \"\"\"\n",
    "    Implements the forward propagation for the binary classification model:\n",
    "    ZEROPAD2D -> CONV2D -> BATCHNORM -> RELU -> MAXPOOL -> FLATTEN -> DENSE\n",
    "    \n",
    "    Note that for simplicity and grading purposes, you'll hard-code all the values\n",
    "    such as the stride and kernel (filter) sizes. \n",
    "    Normally, functions should take these values as function parameters.\n",
    "    \n",
    "    Arguments:\n",
    "    None\n",
    "\n",
    "    Returns:\n",
    "    model -- TF Keras model (object containing the information for the entire training process) \n",
    "    \"\"\"\n",
    "    model = tf.keras.Sequential([\n",
    "            ## ZeroPadding2D with padding 3, input shape of 64 x 64 x 3\n",
    "            tfl.ZeroPadding2D(padding=3, input_shape=(64,64,3)),\n",
    "            ## Conv2D with 32 7x7 filters and stride of 1\n",
    "            tfl.Conv2D(32,(7,7),strides=1),\n",
    "            ## BatchNormalization for axis 3\n",
    "            tfl.BatchNormalization(axis=3),\n",
    "            ## ReLU\n",
    "            tfl.ReLU(),\n",
    "            ## Max Pooling 2D with default parameters\n",
    "            tfl.MaxPooling2D(),\n",
    "            ## Flatten layer\n",
    "            tfl.Flatten(),\n",
    "            ## Dense layer with 1 unit for output & 'sigmoid' activation\n",
    "            tfl.Dense(1,activation='sigmoid')\n",
    "            # YOUR CODE STARTS HERE\n",
    "            \n",
    "            \n",
    "            # YOUR CODE ENDS HERE\n",
    "        ])\n",
    "    \n",
    "    return model"
   ]
  },
  {
   "cell_type": "code",
   "execution_count": 19,
   "metadata": {
    "deletable": false,
    "editable": false,
    "nbgrader": {
     "cell_type": "code",
     "checksum": "8d3575c950e2e78149be2d05d671c80d",
     "grade": true,
     "grade_id": "cell-e3e1046e5c33d775",
     "locked": true,
     "points": 10,
     "schema_version": 3,
     "solution": false,
     "task": false
    }
   },
   "outputs": [
    {
     "name": "stdout",
     "output_type": "stream",
     "text": [
      "['ZeroPadding2D', (None, 70, 70, 3), 0, ((3, 3), (3, 3))]\n",
      "['Conv2D', (None, 64, 64, 32), 4736, 'valid', 'linear', 'GlorotUniform']\n",
      "['BatchNormalization', (None, 64, 64, 32), 128]\n",
      "['ReLU', (None, 64, 64, 32), 0]\n",
      "['MaxPooling2D', (None, 32, 32, 32), 0, (2, 2), (2, 2), 'valid']\n",
      "['Flatten', (None, 32768), 0]\n",
      "['Dense', (None, 1), 32769, 'sigmoid']\n",
      "\u001b[32mAll tests passed!\u001b[0m\n"
     ]
    }
   ],
   "source": [
    "happy_model = happyModel()\n",
    "# Print a summary for each layer\n",
    "for layer in summary(happy_model):\n",
    "    print(layer)\n",
    "    \n",
    "output = [['ZeroPadding2D', (None, 70, 70, 3), 0, ((3, 3), (3, 3))],\n",
    "            ['Conv2D', (None, 64, 64, 32), 4736, 'valid', 'linear', 'GlorotUniform'],\n",
    "            ['BatchNormalization', (None, 64, 64, 32), 128],\n",
    "            ['ReLU', (None, 64, 64, 32), 0],\n",
    "            ['MaxPooling2D', (None, 32, 32, 32), 0, (2, 2), (2, 2), 'valid'],\n",
    "            ['Flatten', (None, 32768), 0],\n",
    "            ['Dense', (None, 1), 32769, 'sigmoid']]\n",
    "    \n",
    "comparator(summary(happy_model), output)"
   ]
  },
  {
   "cell_type": "markdown",
   "metadata": {},
   "source": [
    "Now that your model is created, you can compile it for training with an optimizer and loss of your choice. When the string `accuracy` is specified as a metric, the type of accuracy used will be automatically converted based on the loss function used. This is one of the many optimizations built into TensorFlow that make your life easier! If you'd like to read more on how the compiler operates, check the docs [here](https://www.tensorflow.org/api_docs/python/tf/keras/Model#compile)."
   ]
  },
  {
   "cell_type": "code",
   "execution_count": 20,
   "metadata": {},
   "outputs": [],
   "source": [
    "happy_model.compile(optimizer='adam',\n",
    "                   loss='binary_crossentropy',\n",
    "                   metrics=['accuracy'])"
   ]
  },
  {
   "cell_type": "markdown",
   "metadata": {},
   "source": [
    "It's time to check your model's parameters with the `.summary()` method. This will display the types of layers you have, the shape of the outputs, and how many parameters are in each layer. "
   ]
  },
  {
   "cell_type": "code",
   "execution_count": 21,
   "metadata": {},
   "outputs": [
    {
     "name": "stdout",
     "output_type": "stream",
     "text": [
      "Model: \"sequential_4\"\n",
      "_________________________________________________________________\n",
      "Layer (type)                 Output Shape              Param #   \n",
      "=================================================================\n",
      "zero_padding2d_6 (ZeroPaddin (None, 70, 70, 3)         0         \n",
      "_________________________________________________________________\n",
      "conv2d_6 (Conv2D)            (None, 64, 64, 32)        4736      \n",
      "_________________________________________________________________\n",
      "batch_normalization_6 (Batch (None, 64, 64, 32)        128       \n",
      "_________________________________________________________________\n",
      "re_lu (ReLU)                 (None, 64, 64, 32)        0         \n",
      "_________________________________________________________________\n",
      "max_pooling2d_4 (MaxPooling2 (None, 32, 32, 32)        0         \n",
      "_________________________________________________________________\n",
      "flatten_4 (Flatten)          (None, 32768)             0         \n",
      "_________________________________________________________________\n",
      "dense_4 (Dense)              (None, 1)                 32769     \n",
      "=================================================================\n",
      "Total params: 37,633\n",
      "Trainable params: 37,569\n",
      "Non-trainable params: 64\n",
      "_________________________________________________________________\n"
     ]
    }
   ],
   "source": [
    "happy_model.summary()"
   ]
  },
  {
   "cell_type": "markdown",
   "metadata": {},
   "source": [
    "<a name='3-2'></a>\n",
    "### 3.2 - Train and Evaluate the Model\n",
    "\n",
    "After creating the model, compiling it with your choice of optimizer and loss function, and doing a sanity check on its contents, you are now ready to build! \n",
    "\n",
    "Simply call `.fit()` to train. That's it! No need for mini-batching, saving, or complex backpropagation computations. That's all been done for you, as you're using a TensorFlow dataset with the batches specified already. You do have the option to specify epoch number or minibatch size if you like (for example, in the case of an un-batched dataset)."
   ]
  },
  {
   "cell_type": "code",
   "execution_count": 22,
   "metadata": {},
   "outputs": [
    {
     "name": "stdout",
     "output_type": "stream",
     "text": [
      "Epoch 1/10\n",
      "38/38 [==============================] - 4s 93ms/step - loss: 0.8743 - accuracy: 0.7400\n",
      "Epoch 2/10\n",
      "38/38 [==============================] - 3s 92ms/step - loss: 0.2537 - accuracy: 0.9117\n",
      "Epoch 3/10\n",
      "38/38 [==============================] - 3s 90ms/step - loss: 0.1453 - accuracy: 0.9533\n",
      "Epoch 4/10\n",
      "38/38 [==============================] - 3s 92ms/step - loss: 0.1051 - accuracy: 0.9583\n",
      "Epoch 5/10\n",
      "38/38 [==============================] - 3s 90ms/step - loss: 0.1445 - accuracy: 0.9433\n",
      "Epoch 6/10\n",
      "38/38 [==============================] - 3s 90ms/step - loss: 0.1434 - accuracy: 0.9367\n",
      "Epoch 7/10\n",
      "38/38 [==============================] - 4s 92ms/step - loss: 0.1453 - accuracy: 0.9483\n",
      "Epoch 8/10\n",
      "38/38 [==============================] - 3s 90ms/step - loss: 0.1854 - accuracy: 0.9483\n",
      "Epoch 9/10\n",
      "38/38 [==============================] - 3s 90ms/step - loss: 0.1979 - accuracy: 0.9300\n",
      "Epoch 10/10\n",
      "38/38 [==============================] - 3s 87ms/step - loss: 0.1212 - accuracy: 0.9700\n"
     ]
    },
    {
     "data": {
      "text/plain": [
       "<tensorflow.python.keras.callbacks.History at 0x7f1056e40410>"
      ]
     },
     "execution_count": 22,
     "metadata": {},
     "output_type": "execute_result"
    }
   ],
   "source": [
    "happy_model.fit(X_train, Y_train, epochs=10, batch_size=16)"
   ]
  },
  {
   "cell_type": "markdown",
   "metadata": {},
   "source": [
    "After that completes, just use `.evaluate()` to evaluate against your test set. This function will print the value of the loss function and the performance metrics specified during the compilation of the model. In this case, the `binary_crossentropy` and the `accuracy` respectively."
   ]
  },
  {
   "cell_type": "code",
   "execution_count": 23,
   "metadata": {},
   "outputs": [
    {
     "name": "stdout",
     "output_type": "stream",
     "text": [
      "5/5 [==============================] - 0s 32ms/step - loss: 0.1544 - accuracy: 0.9333\n"
     ]
    },
    {
     "data": {
      "text/plain": [
       "[0.1543978899717331, 0.9333333373069763]"
      ]
     },
     "execution_count": 23,
     "metadata": {},
     "output_type": "execute_result"
    }
   ],
   "source": [
    "happy_model.evaluate(X_test, Y_test)"
   ]
  },
  {
   "cell_type": "markdown",
   "metadata": {},
   "source": [
    "Easy, right? But what if you need to build a model with shared layers, branches, or multiple inputs and outputs? This is where Sequential, with its beautifully simple yet limited functionality, won't be able to help you. \n",
    "\n",
    "Next up: Enter the Functional API, your slightly more complex, highly flexible friend.  "
   ]
  },
  {
   "cell_type": "markdown",
   "metadata": {},
   "source": [
    "<a name='4'></a>\n",
    "## 4 - The Functional API"
   ]
  },
  {
   "cell_type": "markdown",
   "metadata": {},
   "source": [
    "Welcome to the second half of the assignment, where you'll use Keras' flexible [Functional API](https://www.tensorflow.org/guide/keras/functional) to build a ConvNet that can differentiate between 6 sign language digits. \n",
    "\n",
    "The Functional API can handle models with non-linear topology, shared layers, as well as layers with multiple inputs or outputs. Imagine that, where the Sequential API requires the model to move in a linear fashion through its layers, the Functional API allows much more flexibility. Where Sequential is a straight line, a Functional model is a graph, where the nodes of the layers can connect in many more ways than one. \n",
    "\n",
    "In the visual example below, the one possible direction of the movement Sequential model is shown in contrast to a skip connection, which is just one of the many ways a Functional model can be constructed. A skip connection, as you might have guessed, skips some layer in the network and feeds the output to a later layer in the network. Don't worry, you'll be spending more time with skip connections very soon! "
   ]
  },
  {
   "cell_type": "markdown",
   "metadata": {},
   "source": [
    "<img src=\"images/seq_vs_func.png\" style=\"width:350px;height:200px;\">"
   ]
  },
  {
   "cell_type": "markdown",
   "metadata": {},
   "source": [
    "<a name='4-1'></a>\n",
    "### 4.1 - Load the SIGNS Dataset\n",
    "\n",
    "As a reminder, the SIGNS dataset is a collection of 6 signs representing numbers from 0 to 5."
   ]
  },
  {
   "cell_type": "code",
   "execution_count": 24,
   "metadata": {},
   "outputs": [],
   "source": [
    "# Loading the data (signs)\n",
    "X_train_orig, Y_train_orig, X_test_orig, Y_test_orig, classes = load_signs_dataset()"
   ]
  },
  {
   "cell_type": "markdown",
   "metadata": {},
   "source": [
    "<img src=\"images/SIGNS.png\" style=\"width:800px;height:300px;\">\n",
    "\n",
    "The next cell will show you an example of a labelled image in the dataset. Feel free to change the value of `index` below and re-run to see different examples. "
   ]
  },
  {
   "cell_type": "code",
   "execution_count": 25,
   "metadata": {},
   "outputs": [
    {
     "name": "stdout",
     "output_type": "stream",
     "text": [
      "y = 4\n"
     ]
    },
    {
     "data": {
      "image/png": "[encoded data removed]",
      "text/plain": [
       "<Figure size 432x288 with 1 Axes>"
      ]
     },
     "metadata": {
      "needs_background": "light"
     },
     "output_type": "display_data"
    }
   ],
   "source": [
    "# Example of an image from the dataset\n",
    "index = 9\n",
    "plt.imshow(X_train_orig[index])\n",
    "print (\"y = \" + str(np.squeeze(Y_train_orig[:, index])))"
   ]
  },
  {
   "cell_type": "markdown",
   "metadata": {},
   "source": [
    "<a name='4-2'></a>\n",
    "### 4.2 - Split the Data into Train/Test Sets\n",
    "\n",
    "In Course 2, you built a fully-connected network for this dataset. But since this is an image dataset, it is more natural to apply a ConvNet to it.\n",
    "\n",
    "To get started, let's examine the shapes of your data. "
   ]
  },
  {
   "cell_type": "code",
   "execution_count": 26,
   "metadata": {},
   "outputs": [
    {
     "name": "stdout",
     "output_type": "stream",
     "text": [
      "number of training examples = 1080\n",
      "number of test examples = 120\n",
      "X_train shape: (1080, 64, 64, 3)\n",
      "Y_train shape: (1080, 6)\n",
      "X_test shape: (120, 64, 64, 3)\n",
      "Y_test shape: (120, 6)\n"
     ]
    }
   ],
   "source": [
    "X_train = X_train_orig/255.\n",
    "X_test = X_test_orig/255.\n",
    "Y_train = convert_to_one_hot(Y_train_orig, 6).T\n",
    "Y_test = convert_to_one_hot(Y_test_orig, 6).T\n",
    "print (\"number of training examples = \" + str(X_train.shape[0]))\n",
    "print (\"number of test examples = \" + str(X_test.shape[0]))\n",
    "print (\"X_train shape: \" + str(X_train.shape))\n",
    "print (\"Y_train shape: \" + str(Y_train.shape))\n",
    "print (\"X_test shape: \" + str(X_test.shape))\n",
    "print (\"Y_test shape: \" + str(Y_test.shape))"
   ]
  },
  {
   "cell_type": "markdown",
   "metadata": {},
   "source": [
    "<a name='4-3'></a>\n",
    "### 4.3 - Forward Propagation\n",
    "\n",
    "In TensorFlow, there are built-in functions that implement the convolution steps for you. By now, you should be familiar with how TensorFlow builds computational graphs. In the [Functional API](https://www.tensorflow.org/guide/keras/functional), you create a graph of layers. This is what allows such great flexibility.\n",
    "\n",
    "However, the following model could also be defined using the Sequential API since the information flow is on a single line. But don't deviate. What we want you to learn is to use the functional API.\n",
    "\n",
    "Begin building your graph of layers by creating an input node that functions as a callable object:\n",
    "\n",
    "- **input_img = tf.keras.Input(shape=input_shape):** \n",
    "\n",
    "Then, create a new node in the graph of layers by calling a layer on the `input_img` object: \n",
    "\n",
    "- **tf.keras.layers.Conv2D(filters= ... , kernel_size= ... , padding='same')(input_img):** Read the full documentation on [Conv2D](https://www.tensorflow.org/api_docs/python/tf/keras/layers/Conv2D).\n",
    "\n",
    "- **tf.keras.layers.MaxPool2D(pool_size=(f, f), strides=(s, s), padding='same'):** `MaxPool2D()` downsamples your input using a window of size (f, f) and strides of size (s, s) to carry out max pooling over each window.  For max pooling, you usually operate on a single example at a time and a single channel at a time. Read the full documentation on [MaxPool2D](https://www.tensorflow.org/api_docs/python/tf/keras/layers/MaxPool2D).\n",
    "\n",
    "- **tf.keras.layers.ReLU():** computes the elementwise ReLU of Z (which can be any shape). You can read the full documentation on [ReLU](https://www.tensorflow.org/api_docs/python/tf/keras/layers/ReLU).\n",
    "\n",
    "- **tf.keras.layers.Flatten()**: given a tensor \"P\", this function takes each training (or test) example in the batch and flattens it into a 1D vector.  \n",
    "\n",
    "    * If a tensor P has the shape (batch_size,h,w,c), it returns a flattened tensor with shape (batch_size, k), where $k=h \\times w \\times c$.  \"k\" equals the product of all the dimension sizes other than the first dimension.\n",
    "    \n",
    "    * For example, given a tensor with dimensions [100, 2, 3, 4], it flattens the tensor to be of shape [100, 24], where 24 = 2 * 3 * 4.  You can read the full documentation on [Flatten](https://www.tensorflow.org/api_docs/python/tf/keras/layers/Flatten).\n",
    "\n",
    "- **tf.keras.layers.Dense(units= ... , activation='softmax')(F):** given the flattened input F, it returns the output computed using a fully connected layer. You can read the full documentation on [Dense](https://www.tensorflow.org/api_docs/python/tf/keras/layers/Dense).\n",
    "\n",
    "In the last function above (`tf.keras.layers.Dense()`), the fully connected layer automatically initializes weights in the graph and keeps on training them as you train the model. Hence, you did not need to initialize those weights when initializing the parameters.\n",
    "\n",
    "Lastly, before creating the model, you'll need to define the output using the last of the function's compositions (in this example, a Dense layer): \n",
    "\n",
    "- **outputs = tf.keras.layers.Dense(units=6, activation='softmax')(F)**\n",
    "\n",
    "\n",
    "#### Window, kernel, filter, pool\n",
    "\n",
    "The words \"kernel\" and \"filter\" are used to refer to the same thing. The word \"filter\" accounts for the amount of \"kernels\" that will be used in a single convolution layer. \"Pool\" is the name of the operation that takes the max or average value of the kernels. \n",
    "\n",
    "This is why the parameter `pool_size` refers to `kernel_size`, and you use `(f,f)` to refer to the filter size. \n",
    "\n",
    "Pool size and kernel size refer to the same thing in different objects - They refer to the shape of the window where the operation takes place. "
   ]
  },
  {
   "cell_type": "markdown",
   "metadata": {},
   "source": [
    "<a name='ex-2'></a>\n",
    "### Exercise 2 - convolutional_model\n",
    "\n",
    "Implement the `convolutional_model` function below to build the following model: `CONV2D -> RELU -> MAXPOOL -> CONV2D -> RELU -> MAXPOOL -> FLATTEN -> DENSE`. Use the functions above! \n",
    "\n",
    "Also, plug in the following parameters for all the steps:\n",
    "\n",
    " - [Conv2D](https://www.tensorflow.org/api_docs/python/tf/keras/layers/Conv2D): Use 8 4 by 4 filters, stride 1, padding is \"SAME\"\n",
    " - [ReLU](https://www.tensorflow.org/api_docs/python/tf/keras/layers/ReLU)\n",
    " - [MaxPool2D](https://www.tensorflow.org/api_docs/python/tf/keras/layers/MaxPool2D): Use an 8 by 8 filter size and an 8 by 8 stride, padding is \"SAME\"\n",
    " - **Conv2D**: Use 16 2 by 2 filters, stride 1, padding is \"SAME\"\n",
    " - **ReLU**\n",
    " - **MaxPool2D**: Use a 4 by 4 filter size and a 4 by 4 stride, padding is \"SAME\"\n",
    " - [Flatten](https://www.tensorflow.org/api_docs/python/tf/keras/layers/Flatten) the previous output.\n",
    " - Fully-connected ([Dense](https://www.tensorflow.org/api_docs/python/tf/keras/layers/Dense)) layer: Apply a fully connected layer with 6 neurons and a softmax activation. "
   ]
  },
  {
   "cell_type": "code",
   "execution_count": 103,
   "metadata": {
    "deletable": false,
    "nbgrader": {
     "cell_type": "code",
     "checksum": "f58643806aa8380c96225fc8b4c5e7aa",
     "grade": false,
     "grade_id": "cell-dac51744a9e03f51",
     "locked": false,
     "schema_version": 3,
     "solution": true,
     "task": false
    }
   },
   "outputs": [],
   "source": [
    "# GRADED FUNCTION: convolutional_model\n",
    "\n",
    "def convolutional_model(input_shape):\n",
    "    \"\"\"\n",
    "    Implements the forward propagation for the model:\n",
    "    CONV2D -> RELU -> MAXPOOL -> CONV2D -> RELU -> MAXPOOL -> FLATTEN -> DENSE\n",
    "    \n",
    "    Note that for simplicity and grading purposes, you'll hard-code some values\n",
    "    such as the stride and kernel (filter) sizes. \n",
    "    Normally, functions should take these values as function parameters.\n",
    "    \n",
    "    Arguments:\n",
    "    input_img -- input dataset, of shape (input_shape)\n",
    "\n",
    "    Returns:\n",
    "    model -- TF Keras model (object containing the information for the entire training process) \n",
    "    \"\"\"\n",
    "\n",
    "    input_img = tf.keras.Input(shape=input_shape)\n",
    "    ## CONV2D: 8 filters 4x4, stride of 1, padding 'SAME'\n",
    "    Z1 = tf.keras.layers.Conv2D(8,(4,4),strides=1,padding='same')(input_img)\n",
    "    ## RELU\n",
    "    A1 = tf.keras.layers.ReLU()(Z1)\n",
    "    ## MAXPOOL: window 8x8, stride 8, padding 'SAME'\n",
    "    P1 = tf.keras.layers.MaxPooling2D((8,8),strides=8,padding='same')(A1)\n",
    "    ## CONV2D: 16 filters 2x2, stride 1, padding 'SAME'\n",
    "    Z2 = tf.keras.layers.Conv2D(16,(2,2),strides=1,padding='same')(P1)\n",
    "    ## RELU\n",
    "    A2 = tf.keras.layers.ReLU()(Z2)\n",
    "    ## MAXPOOL: window 4x4, stride 4, padding 'SAME'\n",
    "    P2 = tf.keras.layers.MaxPooling2D((4,4),strides=4,padding='same')(A2)\n",
    "    ## FLATTEN\n",
    "    F = tf.keras.layers.Flatten()(P2)\n",
    "    ## Dense layer\n",
    "    ## 6 neurons in output layer. Hint: one of the arguments should be \"activation='softmax'\" \n",
    "    outputs = tf.keras.layers.Dense(6,activation='softmax')(F)\n",
    "    # YOUR CODE STARTS HERE\n",
    "    \n",
    "    \n",
    "    # YOUR CODE ENDS HERE\n",
    "    model = tf.keras.Model(inputs=input_img, outputs=outputs)\n",
    "    return model"
   ]
  },
  {
   "cell_type": "code",
   "execution_count": 104,
   "metadata": {
    "deletable": false,
    "editable": false,
    "nbgrader": {
     "cell_type": "code",
     "checksum": "483d626949930a0b0ef20997e7c6ba72",
     "grade": true,
     "grade_id": "cell-45d22e92042174c9",
     "locked": true,
     "points": 10,
     "schema_version": 3,
     "solution": false,
     "task": false
    }
   },
   "outputs": [
    {
     "name": "stdout",
     "output_type": "stream",
     "text": [
      "Model: \"functional_22\"\n",
      "_________________________________________________________________\n",
      "Layer (type)                 Output Shape              Param #   \n",
      "=================================================================\n",
      "input_39 (InputLayer)        [(None, 64, 64, 3)]       0         \n",
      "_________________________________________________________________\n",
      "conv2d_77 (Conv2D)           (None, 64, 64, 8)         392       \n",
      "_________________________________________________________________\n",
      "re_lu_71 (ReLU)              (None, 64, 64, 8)         0         \n",
      "_________________________________________________________________\n",
      "max_pooling2d_66 (MaxPooling (None, 8, 8, 8)           0         \n",
      "_________________________________________________________________\n",
      "conv2d_78 (Conv2D)           (None, 8, 8, 16)          528       \n",
      "_________________________________________________________________\n",
      "re_lu_72 (ReLU)              (None, 8, 8, 16)          0         \n",
      "_________________________________________________________________\n",
      "max_pooling2d_67 (MaxPooling (None, 2, 2, 16)          0         \n",
      "_________________________________________________________________\n",
      "flatten_34 (Flatten)         (None, 64)                0         \n",
      "_________________________________________________________________\n",
      "dense_30 (Dense)             (None, 6)                 390       \n",
      "=================================================================\n",
      "Total params: 1,310\n",
      "Trainable params: 1,310\n",
      "Non-trainable params: 0\n",
      "_________________________________________________________________\n",
      "\u001b[32mAll tests passed!\u001b[0m\n"
     ]
    }
   ],
   "source": [
    "conv_model = convolutional_model((64, 64, 3))\n",
    "conv_model.compile(optimizer='adam',\n",
    "                  loss='categorical_crossentropy',\n",
    "                  metrics=['accuracy'])\n",
    "conv_model.summary()\n",
    "    \n",
    "output = [['InputLayer', [(None, 64, 64, 3)], 0],\n",
    "        ['Conv2D', (None, 64, 64, 8), 392, 'same', 'linear', 'GlorotUniform'],\n",
    "        ['ReLU', (None, 64, 64, 8), 0],\n",
    "        ['MaxPooling2D', (None, 8, 8, 8), 0, (8, 8), (8, 8), 'same'],\n",
    "        ['Conv2D', (None, 8, 8, 16), 528, 'same', 'linear', 'GlorotUniform'],\n",
    "        ['ReLU', (None, 8, 8, 16), 0],\n",
    "        ['MaxPooling2D', (None, 2, 2, 16), 0, (4, 4), (4, 4), 'same'],\n",
    "        ['Flatten', (None, 64), 0],\n",
    "        ['Dense', (None, 6), 390, 'softmax']]\n",
    "    \n",
    "comparator(summary(conv_model), output)"
   ]
  },
  {
   "cell_type": "markdown",
   "metadata": {},
   "source": [
    "Both the Sequential and Functional APIs return a TF Keras model object. The only difference is how inputs are handled inside the object model! "
   ]
  },
  {
   "cell_type": "markdown",
   "metadata": {},
   "source": [
    "<a name='4-4'></a>\n",
    "### 4.4 - Train the Model"
   ]
  },
  {
   "cell_type": "code",
   "execution_count": 105,
   "metadata": {},
   "outputs": [
    {
     "name": "stdout",
     "output_type": "stream",
     "text": [
      "Epoch 1/100\n",
      "17/17 [==============================] - 2s 101ms/step - loss: 1.7929 - accuracy: 0.2176 - val_loss: 1.7865 - val_accuracy: 0.1833\n",
      "Epoch 2/100\n",
      "17/17 [==============================] - 2s 100ms/step - loss: 1.7837 - accuracy: 0.1815 - val_loss: 1.7815 - val_accuracy: 0.2000\n",
      "Epoch 3/100\n",
      "17/17 [==============================] - 2s 100ms/step - loss: 1.7773 - accuracy: 0.2306 - val_loss: 1.7757 - val_accuracy: 0.3167\n",
      "Epoch 4/100\n",
      "17/17 [==============================] - 2s 105ms/step - loss: 1.7691 - accuracy: 0.3231 - val_loss: 1.7681 - val_accuracy: 0.3417\n",
      "Epoch 5/100\n",
      "17/17 [==============================] - 2s 100ms/step - loss: 1.7576 - accuracy: 0.3676 - val_loss: 1.7566 - val_accuracy: 0.3417\n",
      "Epoch 6/100\n",
      "17/17 [==============================] - 2s 101ms/step - loss: 1.7424 - accuracy: 0.4019 - val_loss: 1.7416 - val_accuracy: 0.3500\n",
      "Epoch 7/100\n",
      "17/17 [==============================] - 2s 100ms/step - loss: 1.7229 - accuracy: 0.4176 - val_loss: 1.7217 - val_accuracy: 0.3917\n",
      "Epoch 8/100\n",
      "17/17 [==============================] - 2s 100ms/step - loss: 1.6979 - accuracy: 0.4352 - val_loss: 1.6982 - val_accuracy: 0.3917\n",
      "Epoch 9/100\n",
      "17/17 [==============================] - 2s 106ms/step - loss: 1.6669 - accuracy: 0.4509 - val_loss: 1.6658 - val_accuracy: 0.4667\n",
      "Epoch 10/100\n",
      "17/17 [==============================] - 2s 100ms/step - loss: 1.6278 - accuracy: 0.4769 - val_loss: 1.6300 - val_accuracy: 0.4333\n",
      "Epoch 11/100\n",
      "17/17 [==============================] - 2s 100ms/step - loss: 1.5815 - accuracy: 0.5009 - val_loss: 1.5838 - val_accuracy: 0.5000\n",
      "Epoch 12/100\n",
      "17/17 [==============================] - 2s 100ms/step - loss: 1.5285 - accuracy: 0.5176 - val_loss: 1.5365 - val_accuracy: 0.5000\n",
      "Epoch 13/100\n",
      "17/17 [==============================] - 2s 100ms/step - loss: 1.4715 - accuracy: 0.5389 - val_loss: 1.4834 - val_accuracy: 0.5167\n",
      "Epoch 14/100\n",
      "17/17 [==============================] - 2s 100ms/step - loss: 1.4121 - accuracy: 0.5537 - val_loss: 1.4281 - val_accuracy: 0.5167\n",
      "Epoch 15/100\n",
      "17/17 [==============================] - 2s 100ms/step - loss: 1.3539 - accuracy: 0.5731 - val_loss: 1.3706 - val_accuracy: 0.5583\n",
      "Epoch 16/100\n",
      "17/17 [==============================] - 2s 96ms/step - loss: 1.2986 - accuracy: 0.5917 - val_loss: 1.3172 - val_accuracy: 0.5583\n",
      "Epoch 17/100\n",
      "17/17 [==============================] - 2s 100ms/step - loss: 1.2451 - accuracy: 0.6074 - val_loss: 1.2642 - val_accuracy: 0.6083\n",
      "Epoch 18/100\n",
      "17/17 [==============================] - 2s 105ms/step - loss: 1.1954 - accuracy: 0.6222 - val_loss: 1.2147 - val_accuracy: 0.6000\n",
      "Epoch 19/100\n",
      "17/17 [==============================] - 2s 100ms/step - loss: 1.1498 - accuracy: 0.6389 - val_loss: 1.1697 - val_accuracy: 0.6083\n",
      "Epoch 20/100\n",
      "17/17 [==============================] - 2s 101ms/step - loss: 1.1069 - accuracy: 0.6509 - val_loss: 1.1253 - val_accuracy: 0.6333\n",
      "Epoch 21/100\n",
      "17/17 [==============================] - 2s 100ms/step - loss: 1.0685 - accuracy: 0.6657 - val_loss: 1.0857 - val_accuracy: 0.6333\n",
      "Epoch 22/100\n",
      "17/17 [==============================] - 2s 100ms/step - loss: 1.0333 - accuracy: 0.6731 - val_loss: 1.0485 - val_accuracy: 0.6333\n",
      "Epoch 23/100\n",
      "17/17 [==============================] - 2s 101ms/step - loss: 1.0005 - accuracy: 0.6815 - val_loss: 1.0144 - val_accuracy: 0.6333\n",
      "Epoch 24/100\n",
      "17/17 [==============================] - 2s 100ms/step - loss: 0.9703 - accuracy: 0.6944 - val_loss: 0.9832 - val_accuracy: 0.6583\n",
      "Epoch 25/100\n",
      "17/17 [==============================] - 2s 100ms/step - loss: 0.9425 - accuracy: 0.7074 - val_loss: 0.9544 - val_accuracy: 0.6583\n",
      "Epoch 26/100\n",
      "17/17 [==============================] - 2s 95ms/step - loss: 0.9160 - accuracy: 0.7176 - val_loss: 0.9275 - val_accuracy: 0.6583\n",
      "Epoch 27/100\n",
      "17/17 [==============================] - 2s 100ms/step - loss: 0.8913 - accuracy: 0.7269 - val_loss: 0.9033 - val_accuracy: 0.6750\n",
      "Epoch 28/100\n",
      "17/17 [==============================] - 2s 100ms/step - loss: 0.8667 - accuracy: 0.7352 - val_loss: 0.8789 - val_accuracy: 0.6750\n",
      "Epoch 29/100\n",
      "17/17 [==============================] - 2s 100ms/step - loss: 0.8433 - accuracy: 0.7435 - val_loss: 0.8570 - val_accuracy: 0.6833\n",
      "Epoch 30/100\n",
      "17/17 [==============================] - 2s 100ms/step - loss: 0.8205 - accuracy: 0.7556 - val_loss: 0.8358 - val_accuracy: 0.6917\n",
      "Epoch 31/100\n",
      "17/17 [==============================] - 2s 100ms/step - loss: 0.8014 - accuracy: 0.7648 - val_loss: 0.8179 - val_accuracy: 0.6917\n",
      "Epoch 32/100\n",
      "17/17 [==============================] - 2s 100ms/step - loss: 0.7819 - accuracy: 0.7704 - val_loss: 0.8011 - val_accuracy: 0.7000\n",
      "Epoch 33/100\n",
      "17/17 [==============================] - 2s 100ms/step - loss: 0.7644 - accuracy: 0.7759 - val_loss: 0.7868 - val_accuracy: 0.6833\n",
      "Epoch 34/100\n",
      "17/17 [==============================] - 2s 100ms/step - loss: 0.7470 - accuracy: 0.7759 - val_loss: 0.7718 - val_accuracy: 0.6917\n",
      "Epoch 35/100\n",
      "17/17 [==============================] - 2s 101ms/step - loss: 0.7307 - accuracy: 0.7787 - val_loss: 0.7587 - val_accuracy: 0.7083\n",
      "Epoch 36/100\n",
      "17/17 [==============================] - 2s 100ms/step - loss: 0.7155 - accuracy: 0.7852 - val_loss: 0.7457 - val_accuracy: 0.7250\n",
      "Epoch 37/100\n",
      "17/17 [==============================] - 2s 100ms/step - loss: 0.6993 - accuracy: 0.7852 - val_loss: 0.7316 - val_accuracy: 0.7250\n",
      "Epoch 38/100\n",
      "17/17 [==============================] - 2s 105ms/step - loss: 0.6839 - accuracy: 0.7917 - val_loss: 0.7185 - val_accuracy: 0.7250\n",
      "Epoch 39/100\n",
      "17/17 [==============================] - 2s 100ms/step - loss: 0.6702 - accuracy: 0.7963 - val_loss: 0.7063 - val_accuracy: 0.7250\n",
      "Epoch 40/100\n",
      "17/17 [==============================] - 2s 100ms/step - loss: 0.6567 - accuracy: 0.8000 - val_loss: 0.6948 - val_accuracy: 0.7250\n",
      "Epoch 41/100\n",
      "17/17 [==============================] - 2s 100ms/step - loss: 0.6437 - accuracy: 0.8028 - val_loss: 0.6842 - val_accuracy: 0.7250\n",
      "Epoch 42/100\n",
      "17/17 [==============================] - 2s 101ms/step - loss: 0.6310 - accuracy: 0.8074 - val_loss: 0.6737 - val_accuracy: 0.7250\n",
      "Epoch 43/100\n",
      "17/17 [==============================] - 2s 100ms/step - loss: 0.6186 - accuracy: 0.8120 - val_loss: 0.6635 - val_accuracy: 0.7250\n",
      "Epoch 44/100\n",
      "17/17 [==============================] - 2s 101ms/step - loss: 0.6071 - accuracy: 0.8148 - val_loss: 0.6548 - val_accuracy: 0.7250\n",
      "Epoch 45/100\n",
      "17/17 [==============================] - 2s 100ms/step - loss: 0.5960 - accuracy: 0.8194 - val_loss: 0.6457 - val_accuracy: 0.7250\n",
      "Epoch 46/100\n",
      "17/17 [==============================] - 2s 100ms/step - loss: 0.5847 - accuracy: 0.8231 - val_loss: 0.6368 - val_accuracy: 0.7250\n",
      "Epoch 47/100\n",
      "17/17 [==============================] - 2s 105ms/step - loss: 0.5744 - accuracy: 0.8278 - val_loss: 0.6281 - val_accuracy: 0.7333\n",
      "Epoch 48/100\n",
      "17/17 [==============================] - 2s 100ms/step - loss: 0.5644 - accuracy: 0.8315 - val_loss: 0.6206 - val_accuracy: 0.7333\n",
      "Epoch 49/100\n",
      "17/17 [==============================] - 2s 105ms/step - loss: 0.5549 - accuracy: 0.8333 - val_loss: 0.6134 - val_accuracy: 0.7333\n",
      "Epoch 50/100\n",
      "17/17 [==============================] - 2s 100ms/step - loss: 0.5458 - accuracy: 0.8389 - val_loss: 0.6057 - val_accuracy: 0.7417\n",
      "Epoch 51/100\n",
      "17/17 [==============================] - 2s 100ms/step - loss: 0.5370 - accuracy: 0.8417 - val_loss: 0.5981 - val_accuracy: 0.7417\n",
      "Epoch 52/100\n",
      "17/17 [==============================] - 2s 101ms/step - loss: 0.5285 - accuracy: 0.8444 - val_loss: 0.5912 - val_accuracy: 0.7333\n",
      "Epoch 53/100\n",
      "17/17 [==============================] - 2s 100ms/step - loss: 0.5204 - accuracy: 0.8481 - val_loss: 0.5847 - val_accuracy: 0.7333\n",
      "Epoch 54/100\n",
      "17/17 [==============================] - 2s 99ms/step - loss: 0.5124 - accuracy: 0.8472 - val_loss: 0.5778 - val_accuracy: 0.7417\n",
      "Epoch 55/100\n",
      "17/17 [==============================] - 2s 101ms/step - loss: 0.5044 - accuracy: 0.8500 - val_loss: 0.5714 - val_accuracy: 0.7417\n",
      "Epoch 56/100\n",
      "17/17 [==============================] - 2s 100ms/step - loss: 0.4969 - accuracy: 0.8528 - val_loss: 0.5656 - val_accuracy: 0.7417\n",
      "Epoch 57/100\n",
      "17/17 [==============================] - 2s 100ms/step - loss: 0.4894 - accuracy: 0.8537 - val_loss: 0.5597 - val_accuracy: 0.7417\n",
      "Epoch 58/100\n",
      "17/17 [==============================] - 2s 95ms/step - loss: 0.4822 - accuracy: 0.8565 - val_loss: 0.5534 - val_accuracy: 0.7667\n",
      "Epoch 59/100\n",
      "17/17 [==============================] - 2s 100ms/step - loss: 0.4753 - accuracy: 0.8593 - val_loss: 0.5473 - val_accuracy: 0.7667\n",
      "Epoch 60/100\n",
      "17/17 [==============================] - 2s 100ms/step - loss: 0.4684 - accuracy: 0.8611 - val_loss: 0.5414 - val_accuracy: 0.7667\n",
      "Epoch 61/100\n",
      "17/17 [==============================] - 2s 100ms/step - loss: 0.4618 - accuracy: 0.8630 - val_loss: 0.5361 - val_accuracy: 0.7833\n",
      "Epoch 62/100\n",
      "17/17 [==============================] - 2s 101ms/step - loss: 0.4556 - accuracy: 0.8648 - val_loss: 0.5310 - val_accuracy: 0.7833\n",
      "Epoch 63/100\n",
      "17/17 [==============================] - 2s 100ms/step - loss: 0.4495 - accuracy: 0.8648 - val_loss: 0.5260 - val_accuracy: 0.7833\n",
      "Epoch 64/100\n",
      "17/17 [==============================] - 2s 100ms/step - loss: 0.4433 - accuracy: 0.8667 - val_loss: 0.5214 - val_accuracy: 0.7833\n",
      "Epoch 65/100\n",
      "17/17 [==============================] - 2s 100ms/step - loss: 0.4374 - accuracy: 0.8685 - val_loss: 0.5166 - val_accuracy: 0.7833\n",
      "Epoch 66/100\n",
      "17/17 [==============================] - 2s 100ms/step - loss: 0.4317 - accuracy: 0.8685 - val_loss: 0.5121 - val_accuracy: 0.7833\n",
      "Epoch 67/100\n",
      "17/17 [==============================] - 2s 100ms/step - loss: 0.4262 - accuracy: 0.8704 - val_loss: 0.5078 - val_accuracy: 0.7750\n",
      "Epoch 68/100\n",
      "17/17 [==============================] - 2s 100ms/step - loss: 0.4207 - accuracy: 0.8741 - val_loss: 0.5034 - val_accuracy: 0.7750\n",
      "Epoch 69/100\n",
      "17/17 [==============================] - 2s 101ms/step - loss: 0.4153 - accuracy: 0.8741 - val_loss: 0.4990 - val_accuracy: 0.7750\n",
      "Epoch 70/100\n",
      "17/17 [==============================] - 2s 100ms/step - loss: 0.4100 - accuracy: 0.8750 - val_loss: 0.4951 - val_accuracy: 0.7833\n",
      "Epoch 71/100\n",
      "17/17 [==============================] - 2s 106ms/step - loss: 0.4049 - accuracy: 0.8769 - val_loss: 0.4907 - val_accuracy: 0.7833\n",
      "Epoch 72/100\n",
      "17/17 [==============================] - 2s 100ms/step - loss: 0.3996 - accuracy: 0.8778 - val_loss: 0.4874 - val_accuracy: 0.7833\n",
      "Epoch 73/100\n",
      "17/17 [==============================] - 2s 106ms/step - loss: 0.3948 - accuracy: 0.8787 - val_loss: 0.4846 - val_accuracy: 0.7833\n",
      "Epoch 74/100\n",
      "17/17 [==============================] - 2s 100ms/step - loss: 0.3898 - accuracy: 0.8796 - val_loss: 0.4806 - val_accuracy: 0.7833\n",
      "Epoch 75/100\n",
      "17/17 [==============================] - 2s 100ms/step - loss: 0.3846 - accuracy: 0.8787 - val_loss: 0.4766 - val_accuracy: 0.7833\n",
      "Epoch 76/100\n",
      "17/17 [==============================] - 2s 100ms/step - loss: 0.3803 - accuracy: 0.8815 - val_loss: 0.4724 - val_accuracy: 0.7917\n",
      "Epoch 77/100\n",
      "17/17 [==============================] - 2s 100ms/step - loss: 0.3753 - accuracy: 0.8806 - val_loss: 0.4694 - val_accuracy: 0.7917\n",
      "Epoch 78/100\n",
      "17/17 [==============================] - 2s 96ms/step - loss: 0.3710 - accuracy: 0.8852 - val_loss: 0.4661 - val_accuracy: 0.8000\n",
      "Epoch 79/100\n",
      "17/17 [==============================] - 2s 100ms/step - loss: 0.3663 - accuracy: 0.8870 - val_loss: 0.4634 - val_accuracy: 0.8083\n",
      "Epoch 80/100\n",
      "17/17 [==============================] - 2s 100ms/step - loss: 0.3624 - accuracy: 0.8880 - val_loss: 0.4609 - val_accuracy: 0.8083\n",
      "Epoch 81/100\n",
      "17/17 [==============================] - 2s 100ms/step - loss: 0.3582 - accuracy: 0.8880 - val_loss: 0.4584 - val_accuracy: 0.8083\n",
      "Epoch 82/100\n",
      "17/17 [==============================] - 2s 100ms/step - loss: 0.3541 - accuracy: 0.8907 - val_loss: 0.4552 - val_accuracy: 0.8083\n",
      "Epoch 83/100\n",
      "17/17 [==============================] - 2s 100ms/step - loss: 0.3501 - accuracy: 0.8926 - val_loss: 0.4522 - val_accuracy: 0.8167\n",
      "Epoch 84/100\n",
      "17/17 [==============================] - 2s 100ms/step - loss: 0.3463 - accuracy: 0.8944 - val_loss: 0.4489 - val_accuracy: 0.8167\n",
      "Epoch 85/100\n",
      "17/17 [==============================] - 2s 100ms/step - loss: 0.3424 - accuracy: 0.8972 - val_loss: 0.4468 - val_accuracy: 0.8250\n",
      "Epoch 86/100\n",
      "17/17 [==============================] - 2s 100ms/step - loss: 0.3386 - accuracy: 0.8972 - val_loss: 0.4445 - val_accuracy: 0.8167\n",
      "Epoch 87/100\n",
      "17/17 [==============================] - 2s 100ms/step - loss: 0.3349 - accuracy: 0.8991 - val_loss: 0.4420 - val_accuracy: 0.8250\n",
      "Epoch 88/100\n",
      "17/17 [==============================] - 2s 100ms/step - loss: 0.3313 - accuracy: 0.9009 - val_loss: 0.4398 - val_accuracy: 0.8250\n",
      "Epoch 89/100\n",
      "17/17 [==============================] - 2s 100ms/step - loss: 0.3278 - accuracy: 0.9019 - val_loss: 0.4371 - val_accuracy: 0.8250\n",
      "Epoch 90/100\n",
      "17/17 [==============================] - 2s 100ms/step - loss: 0.3242 - accuracy: 0.9009 - val_loss: 0.4349 - val_accuracy: 0.8167\n",
      "Epoch 91/100\n",
      "17/17 [==============================] - 2s 105ms/step - loss: 0.3210 - accuracy: 0.9028 - val_loss: 0.4324 - val_accuracy: 0.8250\n",
      "Epoch 92/100\n",
      "17/17 [==============================] - 2s 100ms/step - loss: 0.3177 - accuracy: 0.9046 - val_loss: 0.4302 - val_accuracy: 0.8167\n",
      "Epoch 93/100\n",
      "17/17 [==============================] - 2s 100ms/step - loss: 0.3144 - accuracy: 0.9056 - val_loss: 0.4284 - val_accuracy: 0.8250\n",
      "Epoch 94/100\n",
      "17/17 [==============================] - 2s 100ms/step - loss: 0.3111 - accuracy: 0.9065 - val_loss: 0.4269 - val_accuracy: 0.8250\n",
      "Epoch 95/100\n",
      "17/17 [==============================] - 2s 95ms/step - loss: 0.3081 - accuracy: 0.9056 - val_loss: 0.4247 - val_accuracy: 0.8250\n",
      "Epoch 96/100\n",
      "17/17 [==============================] - 2s 100ms/step - loss: 0.3048 - accuracy: 0.9083 - val_loss: 0.4227 - val_accuracy: 0.8250\n",
      "Epoch 97/100\n",
      "17/17 [==============================] - 2s 100ms/step - loss: 0.3019 - accuracy: 0.9111 - val_loss: 0.4210 - val_accuracy: 0.8250\n",
      "Epoch 98/100\n",
      "17/17 [==============================] - 2s 100ms/step - loss: 0.2988 - accuracy: 0.9111 - val_loss: 0.4185 - val_accuracy: 0.8250\n",
      "Epoch 99/100\n",
      "17/17 [==============================] - 2s 96ms/step - loss: 0.2956 - accuracy: 0.9120 - val_loss: 0.4160 - val_accuracy: 0.8250\n",
      "Epoch 100/100\n",
      "17/17 [==============================] - 2s 100ms/step - loss: 0.2929 - accuracy: 0.9130 - val_loss: 0.4135 - val_accuracy: 0.8250\n"
     ]
    }
   ],
   "source": [
    "train_dataset = tf.data.Dataset.from_tensor_slices((X_train, Y_train)).batch(64)\n",
    "test_dataset = tf.data.Dataset.from_tensor_slices((X_test, Y_test)).batch(64)\n",
    "history = conv_model.fit(train_dataset, epochs=100, validation_data=test_dataset)"
   ]
  },
  {
   "cell_type": "markdown",
   "metadata": {},
   "source": [
    "<a name='5'></a>\n",
    "## 5 - History Object \n",
    "\n",
    "The history object is an output of the `.fit()` operation, and provides a record of all the loss and metric values in memory. It's stored as a dictionary that you can retrieve at `history.history`: "
   ]
  },
  {
   "cell_type": "code",
   "execution_count": 106,
   "metadata": {},
   "outputs": [
    {
     "data": {
      "text/plain": [
       "{'loss': [1.7928727865219116,\n",
       "  1.7836631536483765,\n",
       "  1.777337908744812,\n",
       "  1.7691105604171753,\n",
       "  1.7575739622116089,\n",
       "  1.7424194812774658,\n",
       "  1.7228844165802002,\n",
       "  1.6979235410690308,\n",
       "  1.666864037513733,\n",
       "  1.6277576684951782,\n",
       "  1.5815180540084839,\n",
       "  1.5285032987594604,\n",
       "  1.4715232849121094,\n",
       "  1.4121363162994385,\n",
       "  1.353895664215088,\n",
       "  1.2985785007476807,\n",
       "  1.2450941801071167,\n",
       "  1.1953644752502441,\n",
       "  1.1497606039047241,\n",
       "  1.1068596839904785,\n",
       "  1.0684936046600342,\n",
       "  1.0333149433135986,\n",
       "  1.0004944801330566,\n",
       "  0.9703241586685181,\n",
       "  0.9424811601638794,\n",
       "  0.9160058498382568,\n",
       "  0.8912715315818787,\n",
       "  0.8667096495628357,\n",
       "  0.8432818651199341,\n",
       "  0.8205430507659912,\n",
       "  0.801391065120697,\n",
       "  0.7818753123283386,\n",
       "  0.7643524408340454,\n",
       "  0.7470340132713318,\n",
       "  0.7306686043739319,\n",
       "  0.7154789566993713,\n",
       "  0.6993159055709839,\n",
       "  0.6838808059692383,\n",
       "  0.6702462434768677,\n",
       "  0.6567474603652954,\n",
       "  0.643659770488739,\n",
       "  0.6310099363327026,\n",
       "  0.6186456084251404,\n",
       "  0.6071447730064392,\n",
       "  0.5960167646408081,\n",
       "  0.5846831202507019,\n",
       "  0.574359655380249,\n",
       "  0.5643647909164429,\n",
       "  0.5549080967903137,\n",
       "  0.5458182096481323,\n",
       "  0.5369714498519897,\n",
       "  0.5284687280654907,\n",
       "  0.5203848481178284,\n",
       "  0.5123805999755859,\n",
       "  0.5044030547142029,\n",
       "  0.4968917965888977,\n",
       "  0.48940566182136536,\n",
       "  0.4821620285511017,\n",
       "  0.475349485874176,\n",
       "  0.4684111773967743,\n",
       "  0.4618490934371948,\n",
       "  0.45557114481925964,\n",
       "  0.4495443105697632,\n",
       "  0.4432884752750397,\n",
       "  0.4373950660228729,\n",
       "  0.43172207474708557,\n",
       "  0.4261564314365387,\n",
       "  0.4206548035144806,\n",
       "  0.4152721166610718,\n",
       "  0.4099593162536621,\n",
       "  0.4048873782157898,\n",
       "  0.39961424469947815,\n",
       "  0.39476293325424194,\n",
       "  0.3897632360458374,\n",
       "  0.38461869955062866,\n",
       "  0.38025152683258057,\n",
       "  0.37528589367866516,\n",
       "  0.37101343274116516,\n",
       "  0.36634355783462524,\n",
       "  0.3623548150062561,\n",
       "  0.35817959904670715,\n",
       "  0.35405153036117554,\n",
       "  0.35008299350738525,\n",
       "  0.34627658128738403,\n",
       "  0.3423696756362915,\n",
       "  0.33857184648513794,\n",
       "  0.3349204361438751,\n",
       "  0.3313460648059845,\n",
       "  0.3278413414955139,\n",
       "  0.32423287630081177,\n",
       "  0.3209933638572693,\n",
       "  0.3176511228084564,\n",
       "  0.3143715262413025,\n",
       "  0.3111083209514618,\n",
       "  0.3081091344356537,\n",
       "  0.30479001998901367,\n",
       "  0.3018680214881897,\n",
       "  0.29877328872680664,\n",
       "  0.29564690589904785,\n",
       "  0.2928832471370697],\n",
       " 'accuracy': [0.21759259700775146,\n",
       "  0.1814814805984497,\n",
       "  0.23055554926395416,\n",
       "  0.3231481611728668,\n",
       "  0.36759260296821594,\n",
       "  0.4018518626689911,\n",
       "  0.4175925850868225,\n",
       "  0.43518519401550293,\n",
       "  0.45092591643333435,\n",
       "  0.47685185074806213,\n",
       "  0.5009258985519409,\n",
       "  0.5175926089286804,\n",
       "  0.5388888716697693,\n",
       "  0.5537037253379822,\n",
       "  0.5731481313705444,\n",
       "  0.5916666388511658,\n",
       "  0.6074073910713196,\n",
       "  0.6222222447395325,\n",
       "  0.6388888955116272,\n",
       "  0.6509259343147278,\n",
       "  0.6657407283782959,\n",
       "  0.6731481552124023,\n",
       "  0.6814814805984497,\n",
       "  0.6944444179534912,\n",
       "  0.7074074149131775,\n",
       "  0.7175925970077515,\n",
       "  0.7268518805503845,\n",
       "  0.7351852059364319,\n",
       "  0.7435185313224792,\n",
       "  0.7555555701255798,\n",
       "  0.7648147940635681,\n",
       "  0.770370364189148,\n",
       "  0.7759259343147278,\n",
       "  0.7759259343147278,\n",
       "  0.7787036895751953,\n",
       "  0.7851851582527161,\n",
       "  0.7851851582527161,\n",
       "  0.7916666865348816,\n",
       "  0.7962962985038757,\n",
       "  0.800000011920929,\n",
       "  0.8027777671813965,\n",
       "  0.8074073791503906,\n",
       "  0.8120370507240295,\n",
       "  0.8148148059844971,\n",
       "  0.8194444179534912,\n",
       "  0.8231481313705444,\n",
       "  0.8277778029441833,\n",
       "  0.8314814567565918,\n",
       "  0.8333333134651184,\n",
       "  0.8388888835906982,\n",
       "  0.8416666388511658,\n",
       "  0.8444444537162781,\n",
       "  0.8481481671333313,\n",
       "  0.8472222089767456,\n",
       "  0.8500000238418579,\n",
       "  0.8527777791023254,\n",
       "  0.8537036776542664,\n",
       "  0.8564814925193787,\n",
       "  0.8592592477798462,\n",
       "  0.8611111044883728,\n",
       "  0.8629629611968994,\n",
       "  0.864814817905426,\n",
       "  0.864814817905426,\n",
       "  0.8666666746139526,\n",
       "  0.8685185313224792,\n",
       "  0.8685185313224792,\n",
       "  0.8703703880310059,\n",
       "  0.8740741014480591,\n",
       "  0.8740741014480591,\n",
       "  0.875,\n",
       "  0.8768518567085266,\n",
       "  0.8777777552604675,\n",
       "  0.8787037134170532,\n",
       "  0.8796296119689941,\n",
       "  0.8787037134170532,\n",
       "  0.8814814686775208,\n",
       "  0.8805555701255798,\n",
       "  0.885185182094574,\n",
       "  0.8870370388031006,\n",
       "  0.8879629373550415,\n",
       "  0.8879629373550415,\n",
       "  0.8907407522201538,\n",
       "  0.8925926089286804,\n",
       "  0.894444465637207,\n",
       "  0.8972222208976746,\n",
       "  0.8972222208976746,\n",
       "  0.8990740776062012,\n",
       "  0.9009259343147278,\n",
       "  0.9018518328666687,\n",
       "  0.9009259343147278,\n",
       "  0.9027777910232544,\n",
       "  0.904629647731781,\n",
       "  0.9055555462837219,\n",
       "  0.9064815044403076,\n",
       "  0.9055555462837219,\n",
       "  0.9083333611488342,\n",
       "  0.9111111164093018,\n",
       "  0.9111111164093018,\n",
       "  0.9120370149612427,\n",
       "  0.9129629731178284],\n",
       " 'val_loss': [1.7864861488342285,\n",
       "  1.7815132141113281,\n",
       "  1.775672197341919,\n",
       "  1.7681132555007935,\n",
       "  1.7566393613815308,\n",
       "  1.741638422012329,\n",
       "  1.7217241525650024,\n",
       "  1.6981908082962036,\n",
       "  1.6657729148864746,\n",
       "  1.6299768686294556,\n",
       "  1.5837537050247192,\n",
       "  1.5364528894424438,\n",
       "  1.48337984085083,\n",
       "  1.4281092882156372,\n",
       "  1.3705915212631226,\n",
       "  1.3171813488006592,\n",
       "  1.2642027139663696,\n",
       "  1.214672327041626,\n",
       "  1.16968834400177,\n",
       "  1.1253408193588257,\n",
       "  1.0856785774230957,\n",
       "  1.0484966039657593,\n",
       "  1.0144449472427368,\n",
       "  0.9831610321998596,\n",
       "  0.9543704986572266,\n",
       "  0.927503764629364,\n",
       "  0.9032671451568604,\n",
       "  0.8789255619049072,\n",
       "  0.8569774031639099,\n",
       "  0.83583003282547,\n",
       "  0.8178773522377014,\n",
       "  0.8011264801025391,\n",
       "  0.786799967288971,\n",
       "  0.771824061870575,\n",
       "  0.7587381601333618,\n",
       "  0.7456613779067993,\n",
       "  0.7316052913665771,\n",
       "  0.7184734344482422,\n",
       "  0.7062568068504333,\n",
       "  0.6947739720344543,\n",
       "  0.6841722130775452,\n",
       "  0.6737167835235596,\n",
       "  0.66352379322052,\n",
       "  0.6547613739967346,\n",
       "  0.645682156085968,\n",
       "  0.6368489861488342,\n",
       "  0.6280590295791626,\n",
       "  0.6206331849098206,\n",
       "  0.613378643989563,\n",
       "  0.6056613326072693,\n",
       "  0.59806227684021,\n",
       "  0.591198205947876,\n",
       "  0.5847206711769104,\n",
       "  0.5778469443321228,\n",
       "  0.571386456489563,\n",
       "  0.5656440854072571,\n",
       "  0.5596910119056702,\n",
       "  0.5534456372261047,\n",
       "  0.5472692847251892,\n",
       "  0.5414354801177979,\n",
       "  0.5361188054084778,\n",
       "  0.5309895277023315,\n",
       "  0.5259987711906433,\n",
       "  0.5213721990585327,\n",
       "  0.5166300535202026,\n",
       "  0.5120566487312317,\n",
       "  0.5078116059303284,\n",
       "  0.5034236311912537,\n",
       "  0.49901092052459717,\n",
       "  0.495069682598114,\n",
       "  0.4906754493713379,\n",
       "  0.48741912841796875,\n",
       "  0.4845694899559021,\n",
       "  0.4806009829044342,\n",
       "  0.4765779376029968,\n",
       "  0.47236931324005127,\n",
       "  0.4694346785545349,\n",
       "  0.4661470055580139,\n",
       "  0.46337807178497314,\n",
       "  0.4608648419380188,\n",
       "  0.45844700932502747,\n",
       "  0.4552311301231384,\n",
       "  0.4522019922733307,\n",
       "  0.44888198375701904,\n",
       "  0.44675448536872864,\n",
       "  0.4445258677005768,\n",
       "  0.44204553961753845,\n",
       "  0.4398139417171478,\n",
       "  0.4370743930339813,\n",
       "  0.43494802713394165,\n",
       "  0.4324221909046173,\n",
       "  0.43016210198402405,\n",
       "  0.4284004867076874,\n",
       "  0.426862508058548,\n",
       "  0.4246964752674103,\n",
       "  0.42270323634147644,\n",
       "  0.4210093915462494,\n",
       "  0.41852816939353943,\n",
       "  0.41598013043403625,\n",
       "  0.4134691059589386],\n",
       " 'val_accuracy': [0.18333333730697632,\n",
       "  0.20000000298023224,\n",
       "  0.3166666626930237,\n",
       "  0.34166666865348816,\n",
       "  0.34166666865348816,\n",
       "  0.3499999940395355,\n",
       "  0.3916666805744171,\n",
       "  0.3916666805744171,\n",
       "  0.46666666865348816,\n",
       "  0.4333333373069763,\n",
       "  0.5,\n",
       "  0.5,\n",
       "  0.5166666507720947,\n",
       "  0.5166666507720947,\n",
       "  0.5583333373069763,\n",
       "  0.5583333373069763,\n",
       "  0.6083333492279053,\n",
       "  0.6000000238418579,\n",
       "  0.6083333492279053,\n",
       "  0.6333333253860474,\n",
       "  0.6333333253860474,\n",
       "  0.6333333253860474,\n",
       "  0.6333333253860474,\n",
       "  0.6583333611488342,\n",
       "  0.6583333611488342,\n",
       "  0.6583333611488342,\n",
       "  0.675000011920929,\n",
       "  0.675000011920929,\n",
       "  0.6833333373069763,\n",
       "  0.6916666626930237,\n",
       "  0.6916666626930237,\n",
       "  0.699999988079071,\n",
       "  0.6833333373069763,\n",
       "  0.6916666626930237,\n",
       "  0.7083333134651184,\n",
       "  0.7250000238418579,\n",
       "  0.7250000238418579,\n",
       "  0.7250000238418579,\n",
       "  0.7250000238418579,\n",
       "  0.7250000238418579,\n",
       "  0.7250000238418579,\n",
       "  0.7250000238418579,\n",
       "  0.7250000238418579,\n",
       "  0.7250000238418579,\n",
       "  0.7250000238418579,\n",
       "  0.7250000238418579,\n",
       "  0.7333333492279053,\n",
       "  0.7333333492279053,\n",
       "  0.7333333492279053,\n",
       "  0.7416666746139526,\n",
       "  0.7416666746139526,\n",
       "  0.7333333492279053,\n",
       "  0.7333333492279053,\n",
       "  0.7416666746139526,\n",
       "  0.7416666746139526,\n",
       "  0.7416666746139526,\n",
       "  0.7416666746139526,\n",
       "  0.7666666507720947,\n",
       "  0.7666666507720947,\n",
       "  0.7666666507720947,\n",
       "  0.7833333611488342,\n",
       "  0.7833333611488342,\n",
       "  0.7833333611488342,\n",
       "  0.7833333611488342,\n",
       "  0.7833333611488342,\n",
       "  0.7833333611488342,\n",
       "  0.7749999761581421,\n",
       "  0.7749999761581421,\n",
       "  0.7749999761581421,\n",
       "  0.7833333611488342,\n",
       "  0.7833333611488342,\n",
       "  0.7833333611488342,\n",
       "  0.7833333611488342,\n",
       "  0.7833333611488342,\n",
       "  0.7833333611488342,\n",
       "  0.7916666865348816,\n",
       "  0.7916666865348816,\n",
       "  0.800000011920929,\n",
       "  0.8083333373069763,\n",
       "  0.8083333373069763,\n",
       "  0.8083333373069763,\n",
       "  0.8083333373069763,\n",
       "  0.8166666626930237,\n",
       "  0.8166666626930237,\n",
       "  0.824999988079071,\n",
       "  0.8166666626930237,\n",
       "  0.824999988079071,\n",
       "  0.824999988079071,\n",
       "  0.824999988079071,\n",
       "  0.8166666626930237,\n",
       "  0.824999988079071,\n",
       "  0.8166666626930237,\n",
       "  0.824999988079071,\n",
       "  0.824999988079071,\n",
       "  0.824999988079071,\n",
       "  0.824999988079071,\n",
       "  0.824999988079071,\n",
       "  0.824999988079071,\n",
       "  0.824999988079071,\n",
       "  0.824999988079071]}"
      ]
     },
     "execution_count": 106,
     "metadata": {},
     "output_type": "execute_result"
    }
   ],
   "source": [
    "history.history"
   ]
  },
  {
   "cell_type": "markdown",
   "metadata": {},
   "source": [
    "Now visualize the loss over time using `history.history`: "
   ]
  },
  {
   "cell_type": "code",
   "execution_count": 107,
   "metadata": {},
   "outputs": [
    {
     "data": {
      "text/plain": [
       "[Text(0, 0.5, 'Accuracy'), Text(0.5, 0, 'Epoch')]"
      ]
     },
     "execution_count": 107,
     "metadata": {},
     "output_type": "execute_result"
    },
    {
     "data": {
      "image/png": "[encoded data removed]",
      "text/plain": [
       "<Figure size 864x576 with 1 Axes>"
      ]
     },
     "metadata": {
      "needs_background": "light"
     },
     "output_type": "display_data"
    },
    {
     "data": {
      "image/png": "[encoded data removed]",
      "text/plain": [
       "<Figure size 864x576 with 1 Axes>"
      ]
     },
     "metadata": {
      "needs_background": "light"
     },
     "output_type": "display_data"
    }
   ],
   "source": [
    "# The history.history[\"loss\"] entry is a dictionary with as many values as epochs that the\n",
    "# model was trained on. \n",
    "df_loss_acc = pd.DataFrame(history.history)\n",
    "df_loss= df_loss_acc[['loss','val_loss']]\n",
    "df_loss.rename(columns={'loss':'train','val_loss':'validation'},inplace=True)\n",
    "df_acc= df_loss_acc[['accuracy','val_accuracy']]\n",
    "df_acc.rename(columns={'accuracy':'train','val_accuracy':'validation'},inplace=True)\n",
    "df_loss.plot(title='Model loss',figsize=(12,8)).set(xlabel='Epoch',ylabel='Loss')\n",
    "df_acc.plot(title='Model Accuracy',figsize=(12,8)).set(xlabel='Epoch',ylabel='Accuracy')"
   ]
  },
  {
   "cell_type": "markdown",
   "metadata": {},
   "source": [
    "**Congratulations**! You've finished the assignment and built two models: One that recognizes  smiles, and another that recognizes SIGN language with almost 80% accuracy on the test set. In addition to that, you now also understand the applications of two Keras APIs: Sequential and Functional. Nicely done! \n",
    "\n",
    "By now, you know a bit about how the Functional API works and may have glimpsed the possibilities. In your next assignment, you'll really get a feel for its power when you get the opportunity to build a very deep ConvNet, using ResNets! "
   ]
  },
  {
   "cell_type": "markdown",
   "metadata": {},
   "source": [
    "<a name='6'></a>\n",
    "## 6 - Bibliography\n",
    "\n",
    "You're always encouraged to read the official documentation. To that end, you can find the docs for the Sequential and Functional APIs here: \n",
    "\n",
    "https://www.tensorflow.org/guide/keras/sequential_model\n",
    "\n",
    "https://www.tensorflow.org/guide/keras/functional"
   ]
  }
 ],
 "metadata": {
  "coursera": {
   "course_slug": "convolutional-neural-networks",
   "graded_item_id": "bwbJV",
   "launcher_item_id": "0TkXB"
  },
  "kernelspec": {
   "display_name": "Python 3",
   "language": "python",
   "name": "python3"
  },
  "language_info": {
   "codemirror_mode": {
    "name": "ipython",
    "version": 3
   },
   "file_extension": ".py",
   "mimetype": "text/x-python",
   "name": "python",
   "nbconvert_exporter": "python",
   "pygments_lexer": "ipython3",
   "version": "3.7.6"
  }
 },
 "nbformat": 4,
 "nbformat_minor": 2
}
